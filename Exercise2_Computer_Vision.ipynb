{
  "nbformat": 4,
  "nbformat_minor": 0,
  "metadata": {
    "colab": {
      "name": "Exercise2_Computer_Vision.ipynb",
      "provenance": [],
      "collapsed_sections": []
    },
    "kernelspec": {
      "name": "python3",
      "display_name": "Python 3"
    },
    "language_info": {
      "name": "python"
    }
  },
  "cells": [
    {
      "cell_type": "code",
      "metadata": {
        "colab": {
          "base_uri": "https://localhost:8080/"
        },
        "id": "JBV2ORwI029R",
        "outputId": "58d111ae-067c-46a2-dbff-3705f6eef687"
      },
      "source": [
        "#We will train a neural network to recognize items of clothing from a common dataset called Fashion MNIST.\n",
        "\n",
        "#It contains 70,000 items of clothing in 10 different categories. Each item of clothing is in a 28x28 greyscale image. You can see some examples here:\n",
        "import tensorflow as tf\n",
        "import numpy as np\n",
        "from tensorflow import keras\n",
        "import matplotlib.pyplot as plt\n",
        "\n",
        "class myCallback(tf.keras.callbacks.Callback):\n",
        "  def on_epoch_end(self, epoch, logs={}):\n",
        "    if(logs.get('accuracy')>0.9):\n",
        "      print(\"\\nCanceling...\")\n",
        "      self.model.stop_training = True\n",
        "callbacks = myCallback()\n",
        "mnist = tf.keras.datasets.fashion_mnist\n",
        "(training_imgs, training_lbls), (test_imgs, test_lbls) = mnist.load_data();\n",
        "training_imgs  = training_imgs / 255.0\n",
        "test_imgs = test_imgs / 255.0\n",
        "model = tf.keras.models.Sequential([tf.keras.layers.Flatten(), \n",
        "                                    tf.keras.layers.Dense(128, activation=tf.nn.relu), \n",
        "                                    tf.keras.layers.Dense(10, activation=tf.nn.softmax)])\n",
        "model.compile(optimizer = tf.keras.optimizers.Adam(),\n",
        "              loss = 'sparse_categorical_crossentropy',\n",
        "              metrics=['accuracy'])\n",
        "model.fit(training_imgs, training_lbls, epochs=5, callbacks=[callbacks])\n",
        "\n",
        "model.evaluate(test_imgs, test_lbls)\n",
        "\n",
        "classifications = model.predict(test_imgs)\n",
        "print(classifications[0])"
      ],
      "execution_count": 28,
      "outputs": [
        {
          "output_type": "stream",
          "text": [
            "Epoch 1/5\n",
            "1875/1875 [==============================] - 4s 2ms/step - loss: 0.5001 - accuracy: 0.8231\n",
            "Epoch 2/5\n",
            "1875/1875 [==============================] - 4s 2ms/step - loss: 0.3763 - accuracy: 0.8643\n",
            "Epoch 3/5\n",
            "1875/1875 [==============================] - 4s 2ms/step - loss: 0.3376 - accuracy: 0.8760\n",
            "Epoch 4/5\n",
            "1875/1875 [==============================] - 4s 2ms/step - loss: 0.3145 - accuracy: 0.8850\n",
            "Epoch 5/5\n",
            "1875/1875 [==============================] - 4s 2ms/step - loss: 0.2965 - accuracy: 0.8902\n",
            "313/313 [==============================] - 1s 1ms/step - loss: 0.3638 - accuracy: 0.8687\n",
            "[6.6900974e-08 4.4798893e-09 5.8245874e-08 3.5703462e-08 7.2598027e-08\n",
            " 5.5580571e-02 1.4783608e-07 2.2187948e-02 2.5691173e-07 9.2223084e-01]\n"
          ],
          "name": "stdout"
        }
      ]
    },
    {
      "cell_type": "code",
      "metadata": {
        "colab": {
          "base_uri": "https://localhost:8080/"
        },
        "id": "AkLPmzpQ57v3",
        "outputId": "efc7eca4-bcfc-4a6d-d1c9-e816574895f0"
      },
      "source": [
        "print(test_lbls[0])"
      ],
      "execution_count": 22,
      "outputs": [
        {
          "output_type": "stream",
          "text": [
            "9\n"
          ],
          "name": "stdout"
        }
      ]
    },
    {
      "cell_type": "code",
      "metadata": {
        "colab": {
          "base_uri": "https://localhost:8080/"
        },
        "id": "z1NlvmIa66rv",
        "outputId": "61977176-fe10-474c-8349-1b8eeb1d2150"
      },
      "source": [
        "import tensorflow as tf\n",
        "import numpy as np\n",
        "from tensorflow import keras\n",
        "import matplotlib.pyplot as plt\n",
        "\n",
        "class myCallback(tf.keras.callbacks.Callback):\n",
        "  def on_epoch_end(self, epoch, logs={}):\n",
        "    if(logs.get('accuracy')>0.9):\n",
        "      print(\"\\nCanceling...\")\n",
        "      self.model.stop_training = True\n",
        "callbacks = myCallback()\n",
        "mnist = tf.keras.datasets.fashion_mnist\n",
        "(training_imgs, training_lbls), (test_imgs, test_lbls) = mnist.load_data();\n",
        "training_imgs  = training_imgs / 255.0\n",
        "test_imgs = test_imgs / 255.0\n",
        "model = tf.keras.models.Sequential([tf.keras.layers.Flatten(), \n",
        "                                    tf.keras.layers.Dense(512, activation=tf.nn.relu), \n",
        "                                    tf.keras.layers.Dense(10, activation=tf.nn.softmax)])\n",
        "model.compile(optimizer = tf.keras.optimizers.Adam(),\n",
        "              loss = 'sparse_categorical_crossentropy',\n",
        "              metrics=['accuracy'])\n",
        "model.fit(training_imgs, training_lbls, epochs=5, callbacks=[callbacks])\n",
        "\n",
        "model.evaluate(test_imgs, test_lbls)\n",
        "\n",
        "classifications = model.predict(test_imgs)\n",
        "print(classifications[0])\n",
        "print(test_lbls[0])"
      ],
      "execution_count": 1,
      "outputs": [
        {
          "output_type": "stream",
          "text": [
            "Epoch 1/5\n",
            "1875/1875 [==============================] - 9s 5ms/step - loss: 0.4753 - accuracy: 0.8303\n",
            "Epoch 2/5\n",
            "1875/1875 [==============================] - 8s 5ms/step - loss: 0.3626 - accuracy: 0.8674\n",
            "Epoch 3/5\n",
            "1875/1875 [==============================] - 9s 5ms/step - loss: 0.3240 - accuracy: 0.8814\n",
            "Epoch 4/5\n",
            "1875/1875 [==============================] - 9s 5ms/step - loss: 0.2981 - accuracy: 0.8893\n",
            "Epoch 5/5\n",
            "1875/1875 [==============================] - 9s 5ms/step - loss: 0.2820 - accuracy: 0.8954\n",
            "313/313 [==============================] - 1s 3ms/step - loss: 0.3348 - accuracy: 0.8788\n",
            "[1.5545343e-06 8.7830938e-07 2.4507960e-07 6.9986606e-07 1.2511493e-06\n",
            " 1.1078931e-02 1.6357522e-05 7.5863451e-02 2.2303020e-06 9.1303444e-01]\n",
            "9\n"
          ],
          "name": "stdout"
        }
      ]
    },
    {
      "cell_type": "code",
      "metadata": {
        "colab": {
          "base_uri": "https://localhost:8080/"
        },
        "id": "jCUtE0ld858S",
        "outputId": "9b3c1453-5a32-4821-be4e-be2805457786"
      },
      "source": [
        "import tensorflow as tf\n",
        "import numpy as np\n",
        "from tensorflow import keras\n",
        "import matplotlib.pyplot as plt\n",
        "\n",
        "class myCallback(tf.keras.callbacks.Callback):\n",
        "  def on_epoch_end(self, epoch, logs={}):\n",
        "    if(logs.get('accuracy')>0.9):\n",
        "      print(\"\\nCanceling...\")\n",
        "      self.model.stop_training = True\n",
        "mnist = tf.keras.datasets.fashion_mnist\n",
        "(training_imgs, training_lbls), (test_imgs, test_lbls) = mnist.load_data();\n",
        "training_imgs  = training_imgs / 255.0\n",
        "test_imgs = test_imgs / 255.0\n",
        "model = tf.keras.models.Sequential([tf.keras.layers.Flatten(), \n",
        "                                    tf.keras.layers.Dense(1024, activation=tf.nn.relu), \n",
        "                                    tf.keras.layers.Dense(10, activation=tf.nn.softmax)])\n",
        "model.compile(optimizer = tf.keras.optimizers.Adam(),\n",
        "              loss = 'sparse_categorical_crossentropy',\n",
        "              metrics=['accuracy'])\n",
        "model.fit(training_imgs, training_lbls,  epochs=10, callbacks=[callbacks])\n",
        "\n",
        "model.evaluate(test_imgs, test_lbls)\n",
        "\n",
        "classifications = model.predict(test_imgs)\n",
        "print(classifications[0])\n",
        "print(test_lbls[0])"
      ],
      "execution_count": 2,
      "outputs": [
        {
          "output_type": "stream",
          "text": [
            "Epoch 1/10\n",
            "1875/1875 [==============================] - 15s 8ms/step - loss: 0.4690 - accuracy: 0.8320\n",
            "Epoch 2/10\n",
            "1875/1875 [==============================] - 14s 7ms/step - loss: 0.3594 - accuracy: 0.8686\n",
            "Epoch 3/10\n",
            "1875/1875 [==============================] - 14s 7ms/step - loss: 0.3217 - accuracy: 0.8819\n",
            "Epoch 4/10\n",
            "1875/1875 [==============================] - 14s 7ms/step - loss: 0.2979 - accuracy: 0.8893\n",
            "Epoch 5/10\n",
            "1875/1875 [==============================] - 14s 7ms/step - loss: 0.2800 - accuracy: 0.8966\n",
            "Epoch 6/10\n",
            "1875/1875 [==============================] - 14s 7ms/step - loss: 0.2628 - accuracy: 0.9028\n",
            "\n",
            "Canceling...\n",
            "313/313 [==============================] - 1s 3ms/step - loss: 0.3426 - accuracy: 0.8826\n",
            "[1.5304305e-07 7.6686477e-11 3.6583900e-09 6.0532083e-12 2.1699693e-09\n",
            " 1.6045063e-03 6.6488690e-09 1.7215851e-03 9.1560651e-08 9.9667358e-01]\n",
            "9\n"
          ],
          "name": "stdout"
        }
      ]
    }
  ]
}